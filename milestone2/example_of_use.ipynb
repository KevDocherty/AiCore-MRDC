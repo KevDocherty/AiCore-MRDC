{
 "cells": [
  {
   "cell_type": "code",
   "execution_count": 1,
   "id": "0635d728-600b-4ba8-8564-57d3888d8edf",
   "metadata": {},
   "outputs": [],
   "source": [
    "%load_ext autoreload\n",
    "%autoreload 2"
   ]
  },
  {
   "cell_type": "code",
   "execution_count": 2,
   "id": "9061c2ee-1ff3-40b7-a4a9-672494f04de5",
   "metadata": {},
   "outputs": [],
   "source": [
    "%reload_ext autoreload"
   ]
  },
  {
   "cell_type": "code",
   "execution_count": 3,
   "id": "4f9b69d6-66ac-46d7-9230-b365b1c84b53",
   "metadata": {},
   "outputs": [],
   "source": [
    "import database_utils as du\n",
    "import data_cleaning as dc\n",
    "import data_extraction as de"
   ]
  },
  {
   "cell_type": "code",
   "execution_count": 4,
   "id": "f510035b-a836-4209-b143-2b5b0e976207",
   "metadata": {},
   "outputs": [],
   "source": [
    "import pandas as pd"
   ]
  },
  {
   "cell_type": "code",
   "execution_count": 5,
   "id": "c8495cf5-17c1-4c53-96d5-035d60b2be5f",
   "metadata": {},
   "outputs": [],
   "source": [
    "database_connector = du.DatabaseConnector()\n",
    "data_extractor = de.DataExtractor()\n",
    "data_cleaning = dc.DataCleaning()"
   ]
  },
  {
   "cell_type": "code",
   "execution_count": null,
   "id": "38b633ef-386c-48b1-b7cc-182719234c53",
   "metadata": {},
   "outputs": [],
   "source": [
    "# define the system path to the data folder\n",
    "data_path = \"<path>\""
   ]
  },
  {
   "cell_type": "markdown",
   "id": "2f72b14e-53a8-4c6a-8c07-2aed74a6567d",
   "metadata": {},
   "source": [
    "-------------\n",
    "\n",
    "**Extract and clean user details, and upload to database...**\n"
   ]
  },
  {
   "cell_type": "code",
   "execution_count": null,
   "id": "16d03ed4-f41b-4798-a740-961b3e3e8fd0",
   "metadata": {},
   "outputs": [],
   "source": [
    "user_df = data_extractor.read_csv_table('legacy_users', data_path)"
   ]
  },
  {
   "cell_type": "code",
   "execution_count": null,
   "id": "4f5aa001-7b4a-4c1d-b12e-4f667ec9ce26",
   "metadata": {},
   "outputs": [],
   "source": [
    "user_df_clean = data_cleaning.clean_user_data(user_df)"
   ]
  },
  {
   "cell_type": "code",
   "execution_count": null,
   "id": "718451c3-f27c-41dd-a5a9-c3a0af504d3f",
   "metadata": {
    "scrolled": true
   },
   "outputs": [],
   "source": [
    "database_connector.upload_to_db(user_df_clean, 'dim_users')"
   ]
  },
  {
   "cell_type": "markdown",
   "id": "01780fd5-911c-4592-9bb4-f0186a3672ee",
   "metadata": {},
   "source": [
    "--------------\n",
    "\n",
    "**Extract and clean card details, and upload to database...**\n"
   ]
  },
  {
   "cell_type": "code",
   "execution_count": null,
   "id": "b6f4ef11-1abb-4715-86e1-d2db891cfc24",
   "metadata": {},
   "outputs": [],
   "source": [
    "pdf_path = f\"{data_path}/card_details.pdf\""
   ]
  },
  {
   "cell_type": "code",
   "execution_count": null,
   "id": "bd860b08-6e13-4b6c-934f-d19884f4a1de",
   "metadata": {},
   "outputs": [],
   "source": [
    "card_df = data_extractor.retrieve_pdf_data(pdf_path)"
   ]
  },
  {
   "cell_type": "code",
   "execution_count": null,
   "id": "48406f44-0486-4a33-a4bc-c5950d2965c3",
   "metadata": {},
   "outputs": [],
   "source": [
    "clean_card_data = data_cleaning.clean_card_data(card_df)"
   ]
  },
  {
   "cell_type": "code",
   "execution_count": null,
   "id": "e695f820-da93-4ae3-b309-51884610e59d",
   "metadata": {},
   "outputs": [],
   "source": [
    "database_connector.upload_to_db(clean_card_data, 'dim_card_details')"
   ]
  },
  {
   "cell_type": "markdown",
   "id": "d63cd257-03b6-4a5f-82d9-eaddac75827f",
   "metadata": {},
   "source": [
    "---------------------\n",
    "\n",
    "\n",
    "**Extract and clean store details, and upload to database...**\n"
   ]
  },
  {
   "cell_type": "code",
   "execution_count": null,
   "id": "626ed909-bf6e-475a-ac81-ac60dd9014bf",
   "metadata": {},
   "outputs": [],
   "source": [
    "csv_path = f\"{data_path}/legacy_store_details.csv\""
   ]
  },
  {
   "cell_type": "code",
   "execution_count": null,
   "id": "b8a04c7c-ffa8-4701-9085-deb9d9e90c83",
   "metadata": {
    "scrolled": true
   },
   "outputs": [],
   "source": [
    "data_extractor.list_number_of_stores(csv_path)"
   ]
  },
  {
   "cell_type": "code",
   "execution_count": null,
   "id": "5946c685-d6e2-481c-8bfe-7bffa22ab6d8",
   "metadata": {},
   "outputs": [],
   "source": [
    "store_df = data_extractor.retrieve_stores_data(csv_path)"
   ]
  },
  {
   "cell_type": "code",
   "execution_count": null,
   "id": "46feda1e-e253-425e-99b4-6e113348b37c",
   "metadata": {},
   "outputs": [],
   "source": [
    "cleaned_store_df = data_cleaning.called_clean_store_data(store_df)"
   ]
  },
  {
   "cell_type": "code",
   "execution_count": null,
   "id": "424dd1b0-d2cf-4b02-8566-4e7599aa1e5c",
   "metadata": {
    "scrolled": true
   },
   "outputs": [],
   "source": [
    "database_connector.upload_to_db(cleaned_store_df, 'dim_store_details')"
   ]
  },
  {
   "cell_type": "code",
   "execution_count": null,
   "id": "b9a059fc-572c-42d0-8d09-8f0dbf5058b4",
   "metadata": {},
   "outputs": [],
   "source": [
    "%reload_ext autoreload"
   ]
  },
  {
   "cell_type": "code",
   "execution_count": null,
   "id": "7f7343bf-ba37-4507-bb03-439bf19a9653",
   "metadata": {
    "scrolled": true
   },
   "outputs": [],
   "source": [
    "ls ../data"
   ]
  },
  {
   "cell_type": "markdown",
   "id": "95f77ca1-85ce-4902-92eb-638bc9676bf5",
   "metadata": {},
   "source": [
    "---------------------\n",
    "\n",
    "\n",
    "**Extract and clean product details, and upload to database...**\n"
   ]
  },
  {
   "cell_type": "code",
   "execution_count": null,
   "id": "4486d657-839a-4a70-9f51-7b8abdd408e1",
   "metadata": {
    "scrolled": true
   },
   "outputs": [],
   "source": [
    "products_df = data_extractor.extract_from_s3('s3://data-handling-public/products.csv')"
   ]
  },
  {
   "cell_type": "code",
   "execution_count": null,
   "id": "2ab5d4b3-01db-4b41-a53f-047c871b741d",
   "metadata": {},
   "outputs": [],
   "source": [
    "# standardise the product weights as decimal kg...\n",
    "converted_weights_df = data_cleaning.convert_product_weights(df_copy)"
   ]
  },
  {
   "cell_type": "code",
   "execution_count": null,
   "id": "6034d1dc-932a-4ad1-b848-916cdc6e83a7",
   "metadata": {},
   "outputs": [],
   "source": [
    "# clean the products dataframe\n",
    "clean_prod_df = data_cleaning.clean_products_data(converted_weights_df)"
   ]
  },
  {
   "cell_type": "code",
   "execution_count": null,
   "id": "f95ffd7c-14e2-4cd0-be7d-0ccd89958085",
   "metadata": {},
   "outputs": [],
   "source": [
    "database_connector.upload_to_db(clean_prod_df, 'dim_products')"
   ]
  },
  {
   "cell_type": "markdown",
   "id": "47484380-ba60-40f0-80ba-9e6e5f5ba353",
   "metadata": {},
   "source": [
    "---------------------\n",
    "\n",
    "\n",
    "**Extract and clean order details, and upload to database...**\n"
   ]
  },
  {
   "cell_type": "code",
   "execution_count": null,
   "id": "66e3e0f7-aafc-42a5-90e0-21063a801af7",
   "metadata": {},
   "outputs": [],
   "source": [
    "csv_path = '<csv path>'"
   ]
  },
  {
   "cell_type": "code",
   "execution_count": null,
   "id": "4cd9e28e-ee39-4c7e-b03e-e2bb66d00f97",
   "metadata": {},
   "outputs": [],
   "source": [
    "orders_df = data_extractor.read_csv_table('orders_table', csv_path)"
   ]
  },
  {
   "cell_type": "code",
   "execution_count": null,
   "id": "3f02fb89-8456-4195-ad0f-e85e14a5e9bd",
   "metadata": {},
   "outputs": [],
   "source": [
    "clean_orders_df = data_cleaning.clean_orders_data(orders_df)"
   ]
  },
  {
   "cell_type": "code",
   "execution_count": null,
   "id": "8540f516-00b3-4eac-b778-dcf1e860eb5d",
   "metadata": {
    "scrolled": true
   },
   "outputs": [],
   "source": [
    "database_connector.upload_to_db(clean_orders_df, 'orders_table')"
   ]
  },
  {
   "cell_type": "markdown",
   "id": "5cef6329-0e33-44ba-9ccf-c82fc5619151",
   "metadata": {},
   "source": [
    "---------------------\n",
    "\n",
    "\n",
    "**Extract and clean events data (dates of orders), and upload to database...**\n"
   ]
  },
  {
   "cell_type": "code",
   "execution_count": 8,
   "id": "44687c59-dcfb-4527-94c6-536ddcadd965",
   "metadata": {},
   "outputs": [],
   "source": [
    "url = \"https://data-handling-public.s3.eu-west-1.amazonaws.com/date_details.json\""
   ]
  },
  {
   "cell_type": "code",
   "execution_count": 9,
   "id": "b1899b1c-0f5c-417e-a070-6eb4aa5f3be6",
   "metadata": {},
   "outputs": [],
   "source": [
    "df = data_extractor.extract_json_from_url(url)"
   ]
  },
  {
   "cell_type": "code",
   "execution_count": 11,
   "id": "0a275e33-5dd5-42f4-8d60-f8862d11f142",
   "metadata": {},
   "outputs": [],
   "source": [
    "clean_df = data_cleaning.clean_date_events(df)"
   ]
  },
  {
   "cell_type": "code",
   "execution_count": 14,
   "id": "a44e618e-bc3f-4d36-bd12-c9617ddddac1",
   "metadata": {},
   "outputs": [
    {
     "name": "stdout",
     "output_type": "stream",
     "text": [
      "DataFrame uploaded to dim_date_times table in the database.\n"
     ]
    }
   ],
   "source": [
    "database_connector.upload_to_db(clean_df, 'dim_date_times')"
   ]
  }
 ],
 "metadata": {
  "kernelspec": {
   "display_name": "Python 3 (ipykernel)",
   "language": "python",
   "name": "python3"
  },
  "language_info": {
   "codemirror_mode": {
    "name": "ipython",
    "version": 3
   },
   "file_extension": ".py",
   "mimetype": "text/x-python",
   "name": "python",
   "nbconvert_exporter": "python",
   "pygments_lexer": "ipython3",
   "version": "3.11.5"
  }
 },
 "nbformat": 4,
 "nbformat_minor": 5
}
